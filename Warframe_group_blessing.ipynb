{
  "cells": [
    {
      "cell_type": "markdown",
      "metadata": {
        "id": "view-in-github",
        "colab_type": "text"
      },
      "source": [
        "<a href=\"https://colab.research.google.com/github/cyroth/warframe/blob/main/Warframe_group_blessing.ipynb\" target=\"_parent\"><img src=\"https://colab.research.google.com/assets/colab-badge.svg\" alt=\"Open In Colab\"/></a>"
      ]
    },
    {
      "cell_type": "markdown",
      "source": [
        "# Warframe blessing setup.\n",
        "Pick the region, relay and instance then order for blessers from Discord\n",
        "ctrl-F9 to run"
      ],
      "metadata": {
        "id": "ueZoM0ZVYxQc"
      }
    },
    {
      "cell_type": "markdown",
      "source": [],
      "metadata": {
        "id": "Cak0tX_xIGzO"
      }
    },
    {
      "cell_type": "code",
      "source": [],
      "metadata": {
        "id": "p5Et3zOk6NAj"
      },
      "execution_count": null,
      "outputs": []
    },
    {
      "cell_type": "code",
      "source": [
        "import os, datetime\n",
        "\n",
        "# Get parameters\n",
        "# @title Bless setup\n",
        "region = \"as\" # @param [\"as\", \"eu\", \"na\"]\n",
        "relay_name = \"kronia\" # @param [\"larunda\", \"strata\", \"kronia\", \"maroo\", \"orcus\"]\n",
        "relay_instance = \"1\" # @param [\"1\", \"2\"]\n",
        "affinity_bless = \"aff\" # @param {type:\"string\"}\n",
        "credit_bless = \"cred\" # @param {type:\"string\"}\n",
        "resource_bless = \"res\" # @param {type:\"string\"}\n",
        "damage_bless = \"dmg\" # @param {type:\"string\"}\n",
        "health_bless = \"health\" # @param {type:\"string\"}\n",
        "shield_bless = \"shield\" # @param {type:\"string\"}\n",
        "\n",
        "# Calculate time until bless\n",
        "delta = datetime.timedelta(hours=1)\n",
        "now = datetime.datetime.now()\n",
        "next_hour = (now + delta).replace(second=0, minute=0)\n",
        "wait_minutes = (next_hour - now).seconds/60\n",
        "wait_minutes = int(wait_minutes)\n",
        "\n",
        "# Output !bless command\n",
        "bless_types = ['affinity', 'credit', 'resource', 'damage', 'health', 'shield']\n",
        "print(f\"!bless {region} {relay_name} {relay_instance} {wait_minutes} min \", end = \"\")\n",
        "print(*bless_types[0:len(list(filter(None, [affinity_bless, credit_bless, resource_bless, damage_bless, health_bless, shield_bless])))])\n",
        "print(\"\\n\")\n",
        "\n",
        "# Output roles to paste into relay chat\n",
        "print(f\"BLESSING ROLES: @{affinity_bless} --> {bless_types[0].capitalize()} | \", end = \"\")\n",
        "if credit_bless:\n",
        "    print(f\"@{credit_bless} --> {bless_types[1].capitalize()} | \", end = \"\")\n",
        "if resource_bless:\n",
        "    print(f\"@{resource_bless} --> {bless_types[2].capitalize()} | \", end = \"\")\n",
        "if damage_bless:\n",
        "    print(f\"@{damage_bless} --> {bless_types[3].capitalize()} | \", end = \"\")\n",
        "if health_bless:\n",
        "    print(f\"@{health_bless} --> {bless_types[4].capitalize()} | \", end = \"\")\n",
        "if shield_bless:\n",
        "    print(f\"@{shield_bless} --> {bless_types[5].capitalize()}  | \", end = \"\")\n",
        "print(f\"Blessing in {wait_minutes} minutes\", end = \"\")\n",
        "#if shield_bless:\n",
        "#    print(f\" | Shield bless will be delayed by 1 minute\")\n",
        "#else:\n",
        "#    print()\n",
        "print(\"\\n\")\n",
        "\n",
        "# Use a dictionary to map region codes to region names\n",
        "region_map = {\n",
        "    \"as\": \"Asia\",\n",
        "    \"eu\": \"Europe\",\n",
        "    \"na\": \"NorthAmerica\",\n",
        "}\n",
        "region = region_map[region]\n",
        "\n",
        "# Nag whisper for missing blessers and list for thanks\n",
        "roll_call = [\n",
        "    bless\n",
        "    for bless in [affinity_bless, credit_bless, resource_bless, damage_bless, health_bless, shield_bless]\n",
        "    if bless\n",
        "]\n",
        "\n",
        "# Reminder whisper list\n",
        "nag_message = f'Reminder for bless at {relay_name.capitalize()} {relay_instance} in {region} region. You\\'ll be on'\n",
        "for bless in roll_call:\n",
        "    print(f'/w {bless} {nag_message} {bless_types[roll_call.index(bless)].capitalize()}')\n",
        "\n",
        "# Roll call and thank you message\n",
        "print(\"\\n\")\n",
        "print('Roll call. @' + ' @'.join(roll_call) + ' :clem:')\n",
        "print(\"\\n\")\n",
        "print('Thanks to ' + ', '.join(roll_call) + ' for blessing')\n",
        "#if shield_bless:\n",
        "#    print(\"\\n\")\n",
        "#    print('60 second warning to run away before shield bless')"
      ],
      "outputs": [],
      "execution_count": null,
      "metadata": {
        "id": "A7jCNPmq1v8e"
      }
    }
  ],
  "metadata": {
    "colab": {
      "provenance": [],
      "private_outputs": true,
      "include_colab_link": true
    },
    "kernelspec": {
      "display_name": "Python 3",
      "name": "python3"
    }
  },
  "nbformat": 4,
  "nbformat_minor": 0
}
