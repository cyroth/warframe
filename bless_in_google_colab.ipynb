{
  "cells": [
    {
      "cell_type": "markdown",
      "metadata": {
        "id": "view-in-github",
        "colab_type": "text"
      },
      "source": [
        "<a href=\"https://colab.research.google.com/github/cyroth/warframe/blob/main/bless_in_google_colab.ipynb\" target=\"_parent\"><img src=\"https://colab.research.google.com/assets/colab-badge.svg\" alt=\"Open In Colab\"/></a>"
      ]
    },
    {
      "cell_type": "code",
      "source": [
        "import os, datetime\n",
        "# @title bless setup\n",
        "region = \"as\" # @param [\"as\", \"eu\", \"na\"]\n",
        "relay_name = \"larunda\" # @param [\"larunda\", \"strata\", \"kronia\", \"maroo\", \"orcus\"]\n",
        "relay_instance = \"1\" # @param [\"1\", \"2\"]\n",
        "affinity_bless = \"tenno1\" # @param {type:\"string\"}\n",
        "credit_bless = \"tenno2\" # @param {type:\"string\"}\n",
        "resource_bless = \"tenno3\" # @param {type:\"string\"}\n",
        "damage_bless = \"tenno4\" # @param {type:\"string\"}\n",
        "health_bless = \"you\" # @param {type:\"string\"}\n",
        "shield_bless = \"\" # @param {type:\"string\"}\n",
        "\n",
        "# Get values\n",
        "total_blessers = len([bless for bless in [affinity_bless, credit_bless, resource_bless, damage_bless, health_bless, shield_bless] if bless])\n",
        "\n",
        "# Calculate time until bless\n",
        "delta = datetime.timedelta(hours=1)\n",
        "now = datetime.datetime.now()\n",
        "next_hour = (now + delta).replace(second=0, minute=0)\n",
        "wait_minutes = (next_hour - now).seconds/60\n",
        "wait_minutes = int(wait_minutes)\n",
        "\n",
        "# Output !bless command\n",
        "bless_types = ['affinity', 'credit', 'resource', 'damage', 'health', 'shield']\n",
        "print(f\"!bless {region} {relay_name} {relay_instance} {wait_minutes} min \", end = \"\")\n",
        "print(*bless_types[0:total_blessers])\n",
        "print(\"\\n\")\n",
        "\n",
        "# Output roles to paste into relay chat\n",
        "print(f\"BLESSING ROLES: @{affinity_bless} --> {bless_types[0].capitalize()} | \", end = \"\")\n",
        "if total_blessers > 1:\n",
        "    print(f\"@{credit_bless} --> {bless_types[1].capitalize()} | \", end = \"\")\n",
        "if total_blessers > 2:\n",
        "    print(f\"@{resource_bless} --> {bless_types[2].capitalize()} | \", end = \"\")\n",
        "if total_blessers > 3:\n",
        "    print(f\"@{damage_bless} --> {bless_types[3].capitalize()} | \", end = \"\")\n",
        "if total_blessers > 4:\n",
        "    print(f\"@{health_bless} --> {bless_types[4].capitalize()} | \", end = \"\")\n",
        "if total_blessers > 5:\n",
        "    print(f\"@{shield_bless} --> {bless_types[5].capitalize()}  | \", end = \"\")\n",
        "print(f\"Blessing in {wait_minutes} minutes\", end = \"\")\n",
        "if total_blessers > 5:\n",
        "    print(f\" | Shield bless will be delayed by 1 minute\")\n",
        "else:\n",
        "    print()\n",
        "print(\"\\n\")\n",
        "\n",
        "# Nag whisper for missing blessers and list for thanks\n",
        "roll_call = [affinity_bless]\n",
        "if total_blessers > 1:\n",
        "    roll_call.append(credit_bless)\n",
        "if total_blessers > 2:\n",
        "    roll_call.append(resource_bless)\n",
        "if total_blessers > 3:\n",
        "    roll_call.append(damage_bless)\n",
        "if total_blessers > 4:\n",
        "    roll_call.append(health_bless)\n",
        "if total_blessers > 5:\n",
        "    roll_call.append(shield_bless)\n",
        "\n",
        "nag_message = f'Reminder for bless at {relay_name.capitalize()} {relay_instance} in {region} region. You\\'ll be on'\n",
        "for bless in roll_call:\n",
        "    print(f'/w {bless} {nag_message} {bless_types[roll_call.index(bless)].capitalize()}')\n",
        "\n",
        "# Roll call and thank you message\n",
        "print(\"\\n\")\n",
        "print('Roll call. @' + ' '.join(roll_call) + ' :clem:')\n",
        "print(\"\\n\")\n",
        "print('Thanks to ' + ', '.join(roll_call) + ' for blessing')\n",
        "if total_blessers > 5:\n",
        "    print(\"\\n\")\n",
        "    print('60 second warning to run away before shield bless')"
      ],
      "outputs": [
        {
          "output_type": "stream",
          "name": "stdout",
          "text": [
            "!bless as larunda 1 12 min affinity credit resource damage health\n",
            "\n",
            "\n",
            "BLESSING ROLES: @tenno1 --> Affinity | @tenno2 --> Credit | @tenno3 --> Resource | @tenno4 --> Damage | @you --> Health | Blessing in 12 minutes\n",
            "\n",
            "\n",
            "/w tenno1 Reminder for bless at Larunda 1 in as region. You'll be on Affinity\n",
            "/w tenno2 Reminder for bless at Larunda 1 in as region. You'll be on Credit\n",
            "/w tenno3 Reminder for bless at Larunda 1 in as region. You'll be on Resource\n",
            "/w tenno4 Reminder for bless at Larunda 1 in as region. You'll be on Damage\n",
            "/w you Reminder for bless at Larunda 1 in as region. You'll be on Health\n",
            "\n",
            "\n",
            "Roll call. @tenno1 tenno2 tenno3 tenno4 you :clem:\n",
            "\n",
            "\n",
            "Thanks to tenno1, tenno2, tenno3, tenno4, you for blessing\n"
          ]
        }
      ],
      "execution_count": 38,
      "metadata": {
        "colab": {
          "base_uri": "https://localhost:8080/"
        },
        "cellView": "form",
        "id": "G3AWgPE1eMAX",
        "outputId": "50fef59a-45d0-429c-8823-806b4b333746"
      }
    }
  ],
  "metadata": {
    "colab": {
      "provenance": [],
      "include_colab_link": true
    },
    "kernelspec": {
      "display_name": "Python 3",
      "name": "python3"
    }
  },
  "nbformat": 4,
  "nbformat_minor": 0
}